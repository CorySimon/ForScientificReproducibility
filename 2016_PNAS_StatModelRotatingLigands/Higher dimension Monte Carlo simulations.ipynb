{
 "cells": [
  {
   "cell_type": "code",
   "execution_count": 1,
   "metadata": {
    "collapsed": false
   },
   "outputs": [
    {
     "data": {
      "text/plain": [
       "NVT (generic function with 1 method)"
      ]
     },
     "execution_count": 1,
     "metadata": {},
     "output_type": "execute_result"
    }
   ],
   "source": [
    "const N_DIMS = 2 # enter number of dimensions here.\n",
    "include(\"higher_dim_gcmc.jl\")"
   ]
  },
  {
   "cell_type": "code",
   "execution_count": 2,
   "metadata": {
    "collapsed": false
   },
   "outputs": [
    {
     "data": {
      "text/plain": [
       "10"
      ]
     },
     "execution_count": 2,
     "metadata": {},
     "output_type": "execute_result"
    }
   ],
   "source": [
    "# For Kr in MIL-91(Al)\n",
    "site_volume = 12.32 # A^3, motivated by MIL-93(Al)\n",
    "energy_params = construct_energy_param(ϵ_0=3.0, ϵ=3.0, ϵ_l=3.0)\n",
    "pressures = vcat(collect(linspace(0.0001, 0.07, 4)), collect(linspace(0.07, 0.1, 15)))\n",
    "pressures = collect(linspace(0.0, 0.005, 35))\n",
    "temperature = 77.0 # K\n",
    "RT = 8.314 * temperature / 1000.0 # kJ/mol for Qst\n",
    "#site_volume = 372.59 # A^3\n",
    "n_sites = 10"
   ]
  },
  {
   "cell_type": "markdown",
   "metadata": {},
   "source": [
    "## higher dimension (2D) grand canonical Monte Carlo simulation"
   ]
  },
  {
   "cell_type": "code",
   "execution_count": null,
   "metadata": {
    "collapsed": false
   },
   "outputs": [],
   "source": [
    "df_gcmc = run_gcmc_isotherm(pressures, energy_params, n_sites, site_volume, temperature, \n",
    "        desorption_too=true, samples_per_site=50000);"
   ]
  },
  {
   "cell_type": "code",
   "execution_count": null,
   "metadata": {
    "collapsed": false
   },
   "outputs": [],
   "source": [
    "using Compose\n",
    "\n",
    "myplot_n = plot( \n",
    "    # ADsorption\n",
    "    layer(x=df_gcmc[:P][~df_gcmc[:desorption_branch]], y=df_gcmc[:n][~df_gcmc[:desorption_branch]], \n",
    "        Geom.point, Geom.line, Theme(default_color=colorant\"green\")),\n",
    "    # DEsorption\n",
    "    layer(x=df_gcmc[:P][df_gcmc[:desorption_branch]], y=df_gcmc[:n][df_gcmc[:desorption_branch]], \n",
    "        Geom.point, Geom.line, Theme(default_color=colorant\"orange\")),\n",
    "    Guide.xlabel(\"Pressure, 𝑃 (bar)\"),\n",
    "    Guide.ylabel(\"⟨𝑛⟩/𝑀\"),\n",
    "    Guide.title(\"Adsorption isotherm\"),\n",
    "    Theme(background_color=colorant\"white\", panel_stroke=colorant\"black\", \n",
    "        grid_color=colorant\"Gray\", line_width=.7mm, \n",
    "        major_label_font_size=15pt, minor_label_font_size=14pt,\n",
    "        minor_label_color=colorant\"black\", major_label_color=colorant\"black\", \n",
    "        key_title_color=colorant\"black\", key_label_color=colorant\"black\"),\n",
    "     Guide.yticks(ticks=collect(0.0:0.2:1.0))\n",
    ")\n",
    "\n",
    "# Linker configurations\n",
    "myplot_l = plot(\n",
    "    # GCMC\n",
    "    # ADsorption\n",
    "    layer(x=df_gcmc[:P][~df_gcmc[:desorption_branch]], y=df_gcmc[:l][~df_gcmc[:desorption_branch]], \n",
    "        Geom.point, Geom.line, Theme(default_color=colorant\"green\")),\n",
    "    # DEsorption\n",
    "    layer(x=df_gcmc[:P][df_gcmc[:desorption_branch]], y=df_gcmc[:l][df_gcmc[:desorption_branch]], \n",
    "        Geom.point, Geom.line, Theme(default_color=colorant\"orange\")),\n",
    "#     # Inflection pressure\n",
    "#     xintercept=[inflection_pressure],\n",
    "#     Geom.vline(),\n",
    "\n",
    "    Guide.xlabel(\"Pressure, 𝑃 (bar)\"),\n",
    "    Guide.ylabel(\"⟨ℓ⟩/(2𝑀)\"),\n",
    "    Guide.title(\"Linker configurations\"),\n",
    "    Theme(background_color=colorant\"white\", panel_stroke=colorant\"black\", \n",
    "        grid_color=colorant\"Gray\", line_width=.7mm, \n",
    "        major_label_font_size=15pt, minor_label_font_size=14pt,\n",
    "        minor_label_color=colorant\"black\", major_label_color=colorant\"black\", \n",
    "        key_title_color=colorant\"black\", key_label_color=colorant\"black\"),\n",
    "#     Coord.Cartesian(xmax=1.5),\n",
    "#     Guide.xticks(ticks=collect(0.0:0.5:1.5)),\n",
    "     Guide.yticks(ticks=collect(0.0:0.2:1.0))\n",
    "#     Guide.manual_color_key(\"\", \n",
    "#         [\"GCMC\", \"Exact\"], \n",
    "#         [colorant\"red\", colorant\"blue\"]\n",
    "#     )\n",
    ")\n",
    "\n",
    "# Isosteric heat of ads\n",
    "myplot_qst = plot(\n",
    "    # ADsorption\n",
    "    layer(x=df_gcmc[:P][~df_gcmc[:desorption_branch]], y=df_gcmc[:qst][~df_gcmc[:desorption_branch]], \n",
    "        Geom.point, Geom.line, Theme(default_color=colorant\"green\")),\n",
    "    # DEsorption\n",
    "    layer(x=df_gcmc[:P][df_gcmc[:desorption_branch]], y=df_gcmc[:qst][df_gcmc[:desorption_branch]], \n",
    "        Geom.point, Geom.line, Theme(default_color=colorant\"orange\")),\n",
    "    Guide.xlabel(\"Pressure, 𝑃 (bar)\"),\n",
    "#     Guide.xticks(ticks=collect(0.0:0.5:1.5)),\n",
    "    Guide.ylabel(\"Q<sub>st</sub> (kJ/mol)\"),\n",
    "#     Coord.Cartesian(xmax=1.5),\n",
    "    Guide.title(\"Heat of adsorption\"),\n",
    "    Theme(background_color=colorant\"white\", panel_stroke=colorant\"black\", \n",
    "        grid_color=colorant\"Gray\", line_width=.7mm, \n",
    "        major_label_font_size=15pt, minor_label_font_size=14pt,\n",
    "        minor_label_color=colorant\"black\", major_label_color=colorant\"black\", \n",
    "        key_title_color=colorant\"black\", key_label_color=colorant\"black\"),\n",
    "#     Guide.manual_color_key(\"\", \n",
    "#         [\"GCMC\", \"Exact\"], \n",
    "#         [colorant\"red\", colorant\"blue\"]\n",
    "#     )\n",
    ")\n",
    "\n",
    "draw(SVG(30cm, 8cm), hstack(myplot_n, myplot_l, myplot_qst))\n",
    "# draw(PDF(\"2D_simulation_low_samples.pdf\", 30cm, 8cm), hstack(myplot_n, myplot_l, myplot_qst))"
   ]
  },
  {
   "cell_type": "markdown",
   "metadata": {},
   "source": [
    "# Single simulation showing jumping back and forth between high and low density state at intermediate pressure."
   ]
  },
  {
   "cell_type": "code",
   "execution_count": null,
   "metadata": {
    "collapsed": false
   },
   "outputs": [],
   "source": [
    "p_transition = 0.074434345\n",
    "p_transition = 0.0744343425\n",
    "p_transition = 0.074434344\n",
    "occupancy, linker_states, stats, samples_of_n = gcmc_simulation(p_transition, energy_params, 10, site_volume, \n",
    "temperature, samples_per_site=1000000, verboseflag=false, initial_condition=\"random\")"
   ]
  },
  {
   "cell_type": "code",
   "execution_count": null,
   "metadata": {
    "collapsed": false
   },
   "outputs": [],
   "source": [
    "bimodal_distn = plot(x=samples_of_n, Geom.histogram(bincount=100), Guide.xlabel(\"∑n<sub>ij</sub>/𝑀\"), Guide.ylabel(\"# MC samples\"),\n",
    "    Coord.Cartesian(xmax=100.0),\n",
    "    Theme(background_color=colorant\"white\", panel_stroke=colorant\"black\", \n",
    "        grid_color=colorant\"Gray\", line_width=.7mm, \n",
    "        major_label_font_size=15pt, minor_label_font_size=14pt,\n",
    "        minor_label_color=colorant\"black\", major_label_color=colorant\"black\", \n",
    "        key_title_color=colorant\"black\", key_label_color=colorant\"black\")\n",
    ")\n",
    "draw(SVG(10cm, 8cm), bimodal_distn)\n",
    "draw(PDF(\"bimodal_n_samples.pdf\", 10cm, 8cm), bimodal_distn)"
   ]
  },
  {
   "cell_type": "markdown",
   "metadata": {},
   "source": [
    "# Tests"
   ]
  },
  {
   "cell_type": "code",
   "execution_count": 3,
   "metadata": {
    "collapsed": true
   },
   "outputs": [],
   "source": [
    "n_sites = 3\n",
    "n_dims = 2\n",
    "linker_states = [zeros(Int, [n_sites for i = 1:n_dims]...) for k = 1:n_dims]\n",
    "occupancy = zeros(Int, [n_sites for k = 1:n_dims]...)\n",
    "energy_params = construct_energy_param(ϵ_0=10.0, ϵ=2.0, ϵ_l=3.0)\n",
    "occupancy[1, 2] = 1\n",
    "@test_approx_eq adsorbate_energy([1, 2], linker_states, occupancy, energy_params) -energy_params.ϵ_0\n",
    "linker_states[1][1, 2] = 1\n",
    "@test_approx_eq adsorbate_energy([1, 2], linker_states, occupancy, energy_params) (-energy_params.ϵ_0-energy_params.ϵ)\n",
    "linker_states[1][2, 2] = 1\n",
    "@test_approx_eq adsorbate_energy([1, 2], linker_states, occupancy, energy_params) (-energy_params.ϵ_0-2*energy_params.ϵ)\n",
    "linker_states[2][1, 2] = 1\n",
    "@test_approx_eq adsorbate_energy([1, 2], linker_states, occupancy, energy_params) (-energy_params.ϵ_0-3*energy_params.ϵ)\n",
    "linker_states[2][1, 3] = 1\n",
    "@test_approx_eq adsorbate_energy([1, 2], linker_states, occupancy, energy_params) (-energy_params.ϵ_0-4*energy_params.ϵ)"
   ]
  },
  {
   "cell_type": "code",
   "execution_count": 4,
   "metadata": {
    "collapsed": false
   },
   "outputs": [],
   "source": [
    "# now one on boundary, start over.\n",
    "linker_states = [zeros(Int, [n_sites for i = 1:n_dims]...) for k = 1:n_dims]\n",
    "occupancy = zeros(Int, [n_sites for k = 1:n_dims]...)\n",
    "occupancy[3, 2] = 1\n",
    "@test_approx_eq adsorbate_energy([3, 2], linker_states, occupancy, energy_params) (-energy_params.ϵ_0)\n",
    "linker_states[1][3, 2] = 1\n",
    "@test_approx_eq adsorbate_energy([3, 2], linker_states, occupancy, energy_params) (-energy_params.ϵ_0 - energy_params.ϵ)\n",
    "linker_states[1][1, 2] = 1\n",
    "@test_approx_eq adsorbate_energy([3, 2], linker_states, occupancy, energy_params) (-energy_params.ϵ_0 - 2*energy_params.ϵ)\n",
    "linker_states[2][3, 2] = 1\n",
    "@test_approx_eq adsorbate_energy([3, 2], linker_states, occupancy, energy_params) (-energy_params.ϵ_0 - 3*energy_params.ϵ)\n",
    "linker_states[2][3, 3] = 1\n",
    "@test_approx_eq adsorbate_energy([3, 2], linker_states, occupancy, energy_params) (-energy_params.ϵ_0 - 4*energy_params.ϵ)\n"
   ]
  },
  {
   "cell_type": "code",
   "execution_count": 5,
   "metadata": {
    "collapsed": false
   },
   "outputs": [],
   "source": [
    "linker_states = [zeros(Int, [n_sites for i = 1:n_dims]...) for k = 1:n_dims]\n",
    "occupancy = zeros(Int, [n_sites for k = 1:n_dims]...)\n",
    "occupancy[3, 3] = 1\n",
    "linker_states[1][3, 3] = 1\n",
    "linker_states[2][3, 3] = 1\n",
    "linker_states[2][3, 1] = 1\n",
    "linker_states[1][1, 3] = 1\n",
    "@test_approx_eq adsorbate_energy([3, 3], linker_states, occupancy, energy_params) (-energy_params.ϵ_0 - 4*energy_params.ϵ)"
   ]
  },
  {
   "cell_type": "code",
   "execution_count": 6,
   "metadata": {
    "collapsed": false
   },
   "outputs": [],
   "source": [
    "linker_states = [zeros(Int, [n_sites for i = 1:n_dims]...) for k = 1:n_dims]\n",
    "occupancy = zeros(Int, [n_sites for k = 1:n_dims]...)\n",
    "@test_approx_eq  linker_energy(1, [2, 2], linker_states, occupancy, energy_params) 0.0\n",
    "linker_states[1][2, 2] = 1\n",
    "@test_approx_eq  linker_energy(1, [2, 2], linker_states, occupancy, energy_params) energy_params.ϵ_l\n",
    "occupancy[2, 2] = 1\n",
    "@test_approx_eq  linker_energy(1, [2, 2], linker_states, occupancy, energy_params) (energy_params.ϵ_l - energy_params.ϵ)\n",
    "linker_states[2][2, 2] = 1\n",
    "@test_approx_eq  linker_energy(1, [2, 2], linker_states, occupancy, energy_params) (energy_params.ϵ_l - energy_params.ϵ)\n",
    "occupancy[2, 1] = 1\n",
    "@test_approx_eq  linker_energy(2, [2, 2], linker_states, occupancy, energy_params) (energy_params.ϵ_l - 2*energy_params.ϵ)\n",
    "@test_approx_eq  linker_energy(1, [2, 2], linker_states, occupancy, energy_params) (energy_params.ϵ_l - energy_params.ϵ)\n",
    "occupancy[1, 2] = 1\n",
    "@test_approx_eq  linker_energy(1, [2, 2], linker_states, occupancy, energy_params) (energy_params.ϵ_l - 2*energy_params.ϵ)\n",
    "occupancy[1, n_sites] = 1\n",
    "linker_states[2][1, 1] = 1\n",
    "@test_approx_eq  linker_energy(2, [1, 1], linker_states, occupancy, energy_params) (energy_params.ϵ_l - energy_params.ϵ)\n"
   ]
  },
  {
   "cell_type": "code",
   "execution_count": null,
   "metadata": {
    "collapsed": true
   },
   "outputs": [],
   "source": []
  }
 ],
 "metadata": {
  "anaconda-cloud": {},
  "kernelspec": {
   "display_name": "Julia 0.5.0",
   "language": "julia",
   "name": "julia-0.5"
  },
  "language_info": {
   "file_extension": ".jl",
   "mimetype": "application/julia",
   "name": "julia",
   "version": "0.5.0"
  }
 },
 "nbformat": 4,
 "nbformat_minor": 0
}
